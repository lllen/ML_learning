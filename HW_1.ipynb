{
 "nbformat": 4,
 "nbformat_minor": 0,
 "metadata": {
  "colab": {
   "provenance": []
  },
  "kernelspec": {
   "name": "python3",
   "display_name": "Python 3"
  },
  "language_info": {
   "name": "python"
  }
 },
 "cells": [
  {
   "cell_type": "markdown",
   "source": [
    "В цьому домашньому завданні відпрацюємо з вами знання, отримані в модулі зі статистики.\n",
    "\n",
    "**Завдання 1.** Ми обговорили з Вами на лекції, що велика літера Сігма грецького алфавіту позначає в математиці суму. Знайдіть з використанням Python $\\Sigma x$, $\\Sigma x^2$, та $\\Sigma (x-1)^2$ для наступного набору даних:\n",
    "`1 3 4`\n",
    "Виведіть результат кожного обчислення на екран."
   ],
   "metadata": {
    "id": "SDhaTqxcWhnP"
   }
  },
  {
   "cell_type": "code",
   "source": [
    "x = [1, 3, 4]\n",
    "total = 0\n",
    "for i in range(len(x)):\n",
    "    total += (x[i] - 1)^2\n",
    "print(total)"
   ],
   "metadata": {
    "id": "2LtK6mJBV8Ls",
    "outputId": "c9656a42-15e1-4e0f-a0ea-a02e127264a5",
    "colab": {
     "base_uri": "https://localhost:8080/"
    },
    "ExecuteTime": {
     "end_time": "2025-05-26T19:48:52.261153Z",
     "start_time": "2025-05-26T19:48:52.254894Z"
    }
   },
   "outputs": [
    {
     "name": "stdout",
     "output_type": "stream",
     "text": [
      "3\n"
     ]
    }
   ],
   "execution_count": 2
  },
  {
   "cell_type": "code",
   "source": [
    "x = [1, 3, 4]\n",
    "total = 0\n",
    "for i in range(len(x)):\n",
    "    total += x[i] * x[i]\n",
    "print(total)"
   ],
   "metadata": {
    "id": "UfFPGwdaV3ne",
    "outputId": "1c85f58b-a199-4edc-8670-adf2cde171fc",
    "colab": {
     "base_uri": "https://localhost:8080/"
    },
    "ExecuteTime": {
     "end_time": "2025-05-26T19:48:52.339163Z",
     "start_time": "2025-05-26T19:48:52.333941Z"
    }
   },
   "outputs": [
    {
     "name": "stdout",
     "output_type": "stream",
     "text": [
      "26\n"
     ]
    }
   ],
   "execution_count": 3
  },
  {
   "cell_type": "code",
   "source": [
    "x = [1, 3, 4]\n",
    "total = 0\n",
    "for i in range(len(x)):\n",
    "    total += x[i]\n",
    "print(total)"
   ],
   "metadata": {
    "id": "B1mgx_IBT0e8",
    "outputId": "7f0e0d29-c46a-410c-e750-85b5a1c7100c",
    "colab": {
     "base_uri": "https://localhost:8080/"
    },
    "ExecuteTime": {
     "end_time": "2025-05-26T19:48:52.414268Z",
     "start_time": "2025-05-26T19:48:52.409633Z"
    }
   },
   "outputs": [
    {
     "name": "stdout",
     "output_type": "stream",
     "text": [
      "8\n"
     ]
    }
   ],
   "execution_count": 4
  },
  {
   "cell_type": "markdown",
   "source": [
    "**Завдання 2.** Ми зібрали дані про суму покупок в гривнях 20ма випадково обраними клієнтами в нашому магазині (всього клієнтів у нас більше) за минулий місяць. Вони представлені в змінній `sum_purchases`. Знайдіть **вибіркове середнє** для цих даних кожним з зазначених методів:   \n",
    "\n",
    "  2.1. без використання жодних бібліотек, користуючись тільки Python.  \n",
    "  2.2. використовуючи відповідний метод бібліотеки `numpy`.\n",
    "\n",
    "  Виведіть результат обчислень в кожному з випадків на екран та порівняйте результати. Вони співпадають?"
   ],
   "metadata": {
    "id": "fa78aW5lhiia"
   }
  },
  {
   "cell_type": "code",
   "source": [
    "import numpy as np\n",
    "sum_purchases = [ 316,  493,  367,  153,  224,  121,  322,  450,  196,  397,  281,\n",
    "  239,  484,  124,  223,  448,  432,  255, 4310, 3524]\n",
    "print(np.mean(sum_purchases))"
   ],
   "metadata": {
    "id": "nSha1iR7XVS4",
    "outputId": "8c0009f2-efd6-401d-8365-dccd034ffb5c",
    "colab": {
     "base_uri": "https://localhost:8080/"
    },
    "ExecuteTime": {
     "end_time": "2025-05-26T19:48:52.500948Z",
     "start_time": "2025-05-26T19:48:52.457986Z"
    }
   },
   "outputs": [
    {
     "name": "stdout",
     "output_type": "stream",
     "text": [
      "667.95\n"
     ]
    }
   ],
   "execution_count": 5
  },
  {
   "cell_type": "code",
   "metadata": {
    "id": "_9kMt3rq6V5m",
    "outputId": "c62d8ba9-3121-4102-8646-c8d1a5f535a5",
    "colab": {
     "base_uri": "https://localhost:8080/"
    },
    "ExecuteTime": {
     "end_time": "2025-05-26T19:48:52.515761Z",
     "start_time": "2025-05-26T19:48:52.511339Z"
    }
   },
   "source": [
    "sum_purchases = [ 316,  493,  367,  153,  224,  121,  322,  450,  196,  397,  281,\n",
    "  239,  484,  124,  223,  448,  432,  255, 4310, 3524]\n",
    "sample_mean = 0;\n",
    "total_sum = 0;\n",
    "for i in range(len(sum_purchases)):\n",
    "    total_sum += sum_purchases[i]\n",
    "sample_mean = (1/len(sum_purchases)) * total_sum\n",
    "print(sample_mean)\n",
    "\n"
   ],
   "outputs": [
    {
     "name": "stdout",
     "output_type": "stream",
     "text": [
      "667.95\n"
     ]
    }
   ],
   "execution_count": 6
  },
  {
   "cell_type": "markdown",
   "source": [
    "**Завдання 3.** Для того ж набору даних в змінній `sum_purchases` обчисліть **медіану** кожним з зазначених методів:  \n",
    "\n",
    "  3.1. без використання жодних бібліотек, користуючись тільки Python.  \n",
    "  3.2. використовуючи відповідний метод бібліотеки numpy.  \n",
    "\n",
    "Виведіть результат обчислень в кожному з випадків на екран. Порівняйте результати зі значенням вибіркового середнього. Напишіть коментар, для яких задач ви б використовували вибіркове середнє, а для яких - медіану?"
   ],
   "metadata": {
    "id": "FMdoxZd0kZdW"
   }
  },
  {
   "cell_type": "code",
   "source": [
    "import numpy as np\n",
    "sum_purchases = [ 316,  493,  367,  153,  224,  121,  322,  450,  196,  397,  281,\n",
    "  239,  484,  124,  223,  448,  432,  255, 4310, 3524]\n",
    "sum_purchases.sort();\n",
    "mediana = 0;\n",
    "n = len(sum_purchases)\n",
    "\n",
    "if n % 2 != 0:\n",
    "  mediana = sum_purchases[(n - 1)/2]\n",
    "else:\n",
    "    mediana = (sum_purchases[n // 2 - 1] + sum_purchases[n // 2]) / 2\n",
    "\n",
    "print(mediana)"
   ],
   "metadata": {
    "id": "x58BumvuT2nl",
    "colab": {
     "base_uri": "https://localhost:8080/"
    },
    "outputId": "846407b1-0774-49ba-d517-806b13282b94",
    "ExecuteTime": {
     "end_time": "2025-05-26T19:48:52.533008Z",
     "start_time": "2025-05-26T19:48:52.529018Z"
    }
   },
   "outputs": [
    {
     "name": "stdout",
     "output_type": "stream",
     "text": [
      "319.0\n"
     ]
    }
   ],
   "execution_count": 7
  },
  {
   "cell_type": "code",
   "source": [
    "import numpy as np\n",
    "\n",
    "sum_purchases = [ 316,  493,  367,  153,  224,  121,  322,  450,  196,  397,  281,\n",
    "  239,  484,  124,  223,  448,  432,  255, 4310, 3524]\n",
    "\n",
    "mediana = np.median(sum_purchases)\n",
    "\n",
    "print(mediana)"
   ],
   "metadata": {
    "colab": {
     "base_uri": "https://localhost:8080/"
    },
    "id": "YbheIbL_3cWV",
    "outputId": "800c2d91-b5fa-4a03-ef13-ff1b72051f91",
    "ExecuteTime": {
     "end_time": "2025-05-26T19:48:52.561466Z",
     "start_time": "2025-05-26T19:48:52.554606Z"
    }
   },
   "outputs": [
    {
     "name": "stdout",
     "output_type": "stream",
     "text": [
      "319.0\n"
     ]
    }
   ],
   "execution_count": 8
  },
  {
   "cell_type": "markdown",
   "source": [
    "**Завдання 4**. Обчислість стандартне відхилення наведеної вибірки в змінній `sum_purchases` кожним з зазначених методів:  \n",
    "\n",
    "  4.1. без використання жодних бібліотек, користуючись тільки Python.  \n",
    "  4.2. використовуючи відповідний метод бібліотеки numpy.  \n",
    "\n",
    "Виведіть результат обчислень в кожному з випадків на екран."
   ],
   "metadata": {
    "id": "o1Z7az2yNDQV"
   }
  },
  {
   "cell_type": "code",
   "source": [
    "# sum_purchases = [ 316,  493,  367,  153,  224,  121,  322,  450,  196,  397,  281,\n",
    "#   239,  484,  124,  223,  448,  432,  255, 4310, 3524]\n",
    "import math\n",
    "sample_mean = 0;\n",
    "total_sum = 0;\n",
    "variance = 0;\n",
    "standard_deviation = 0;\n",
    "\n",
    "for i in range(len(sum_purchases)):\n",
    "    total_sum += sum_purchases[i]\n",
    "sample_mean = (1/len(sum_purchases)) * total_sum\n",
    "\n",
    "for i in range(len(sum_purchases)):\n",
    "    variance += (sum_purchases[i] - sample_mean)**2\n",
    "variance = variance * (1/(len(sum_purchases)));\n",
    "\n",
    "standard_deviation = math.sqrt(variance)\n",
    "\n",
    "print(standard_deviation)"
   ],
   "metadata": {
    "id": "X4ixtmL2T642",
    "colab": {
     "base_uri": "https://localhost:8080/"
    },
    "outputId": "0c73a1c6-56c8-4c63-9c9d-19235cb1c44d",
    "ExecuteTime": {
     "end_time": "2025-05-26T19:48:52.587900Z",
     "start_time": "2025-05-26T19:48:52.581008Z"
    }
   },
   "outputs": [
    {
     "name": "stdout",
     "output_type": "stream",
     "text": [
      "1096.0692713054227\n"
     ]
    }
   ],
   "execution_count": 9
  },
  {
   "cell_type": "code",
   "source": [
    "std_dev = np.std(sum_purchases)\n",
    "print(std_dev)"
   ],
   "metadata": {
    "colab": {
     "base_uri": "https://localhost:8080/"
    },
    "id": "PyJssVLZsMoh",
    "outputId": "53416389-5500-4805-ca13-eb3acb22f674",
    "ExecuteTime": {
     "end_time": "2025-05-26T19:48:52.618932Z",
     "start_time": "2025-05-26T19:48:52.611553Z"
    }
   },
   "outputs": [
    {
     "name": "stdout",
     "output_type": "stream",
     "text": [
      "1096.0692713054227\n"
     ]
    }
   ],
   "execution_count": 10
  },
  {
   "cell_type": "markdown",
   "source": [
    "**Завдання 5**. Ми провели дослідження віку студентів-першокурсників. Виявилось, що\n",
    "- 10 студентів мають вік 16 років\n",
    "- 25 студентів - 17 років\n",
    "- 20 студентів - 18 років\n",
    "- 2 студенти - 20 років\n",
    "\n",
    "Обчислість середнє значення для цієї вибірки будь-яким способом - на чистому Python або з numpy - та виведіть результат на екран."
   ],
   "metadata": {
    "id": "M1ntKTjXLVlH"
   }
  },
  {
   "cell_type": "code",
   "source": [
    "ages = (\n",
    "    [16] * 10 +  # 10 студентів по 16 років\n",
    "    [17] * 25 +  # 25 студентів по 17 років\n",
    "    [18] * 20 +  # 20 студентів по 18 років\n",
    "    [20] * 2     # 2 студенти по 20 років\n",
    ")\n",
    "\n",
    "ages_sample_mean = 0;\n",
    "total_sum = 0;\n",
    "\n",
    "for i in range(len(ages)):\n",
    "    total_sum += ages[i]\n",
    "ages_sample_mean = (1/len(ages)) * total_sum\n",
    "\n",
    "# with numpy\n",
    "# ages_sample_mean = np.mean(ages);\n",
    "\n",
    "print(ages_sample_mean)"
   ],
   "metadata": {
    "id": "RdIU4M-7T8R4",
    "colab": {
     "base_uri": "https://localhost:8080/"
    },
    "outputId": "3be706dd-1b48-47d1-848b-516012aa65a3",
    "ExecuteTime": {
     "end_time": "2025-05-26T19:48:52.666194Z",
     "start_time": "2025-05-26T19:48:52.653965Z"
    }
   },
   "outputs": [
    {
     "name": "stdout",
     "output_type": "stream",
     "text": [
      "17.280701754385962\n"
     ]
    }
   ],
   "execution_count": 11
  },
  {
   "cell_type": "markdown",
   "source": [
    "**Завдання 6**. Крім даних про суму покупок, ми зібрали ще дані про кількість відвідувань кожного з кожного покупця, які знаходяться в змінній `visits`. Обчисліть коефіцієнт кореляції Пірсона для суми покупок і кількості відвідувань кожним з зазначених методів:  \n",
    "\n",
    "  6.1. без використання жодних бібліотек, користуючись тільки Python.  \n",
    "  6.2. використовуючи відповідний метод бібліотеки numpy.  \n",
    "  \n",
    "Виведіть результат на екран. Проаналізуйте результат.\n",
    "\n",
    "Виведіть додатково графік розсіювання викликавши код нижче і зробіть заключення, чи варто щось змінити при підрахунку кореляції, аби коефіцієнт Пірсона показував коректну оцінку лінійної залежності?"
   ],
   "metadata": {
    "id": "Xx8MFkkVM53z"
   }
  },
  {
   "cell_type": "code",
   "source": [
    "import math\n",
    "visits = [ 6,  2, 10,  3,  9,  9,  2,  3,  6,  6, 10,  2,  5, 10,  3,  5,  4,\n",
    "        7,  4,  2]\n",
    "sum_purchases = [ 316,  493,  367,  153,  224,  121,  322,  450,  196,  397,  281,\n",
    "  239,  484,  124,  223,  448,  432,  255, 4310, 3524]\n",
    "\n",
    "sum_purchases_sample_mean = 0;\n",
    "visits_sample_mean = 0;\n",
    "sumXY = 0;\n",
    "covXY = 0;\n",
    "std_deviation_sum_purchases = 0;\n",
    "std_deviation_visits = 0;\n",
    "r = 0;\n",
    "\n",
    "sum_purchases_sample_mean = (1/len(sum_purchases)) * sum(sum_purchases);\n",
    "visits_sample_mean = (1/len(visits)) * sum(visits);\n",
    "\n",
    "sumXY = np.sum((np.array(sum_purchases) - sum_purchases_sample_mean) * (np.array(visits) - visits_sample_mean));\n",
    "\n",
    "covXY = (sumXY/(len(visits) - 1));\n",
    "\n",
    "sumX = np.sum((np.array(sum_purchases) - sum_purchases_sample_mean)**2);\n",
    "sumY = np.sum((np.array(visits) - visits_sample_mean)**2);\n",
    "\n",
    "std_deviation_sum_purchases = math.sqrt(sumX / len(sum_purchases) - 1);\n",
    "std_deviation_visits = math.sqrt(sumY / len(visits) - 1);\n",
    "\n",
    "r = covXY / (std_deviation_sum_purchases * std_deviation_visits);\n",
    "\n",
    "\n",
    "print(covXY);\n"
   ],
   "metadata": {
    "id": "4OIGBT7UOWhO",
    "colab": {
     "base_uri": "https://localhost:8080/"
    },
    "outputId": "b266d527-ff09-43e0-98e2-6262f8bcd565",
    "ExecuteTime": {
     "end_time": "2025-05-26T19:48:52.701851Z",
     "start_time": "2025-05-26T19:48:52.695299Z"
    }
   },
   "outputs": [
    {
     "name": "stdout",
     "output_type": "stream",
     "text": [
      "-990.1368421052631\n"
     ]
    }
   ],
   "execution_count": 12
  },
  {
   "cell_type": "code",
   "source": [
    "print(np.cov(sum_purchases, visits));"
   ],
   "metadata": {
    "id": "YLNF7VbeT97Q",
    "colab": {
     "base_uri": "https://localhost:8080/"
    },
    "outputId": "11ec9335-2a0a-44a1-8582-b0c6e72b8f71",
    "ExecuteTime": {
     "end_time": "2025-05-26T19:48:52.742349Z",
     "start_time": "2025-05-26T19:48:52.736565Z"
    }
   },
   "outputs": [
    {
     "name": "stdout",
     "output_type": "stream",
     "text": [
      "[[ 1.26459773e+06 -9.90136842e+02]\n",
      " [-9.90136842e+02  8.46315789e+00]]\n"
     ]
    }
   ],
   "execution_count": 13
  },
  {
   "cell_type": "code",
   "source": [
    "import matplotlib.pyplot as plt\n",
    "visits = [ 6,  2, 10,  3,  9,  9,  2,  3,  6,  6, 10,  2,  5, 10,  3,  5,  4,\n",
    "        7,  4,  2]\n",
    "sum_purchases = [ 316,  493,  367,  153,  224,  121,  322,  450,  196,  397,  281,\n",
    "  239,  484,  124,  223,  448,  432,  255, 4310, 3524]\n",
    "plt.scatter(sum_purchases, visits)\n",
    "plt.title('Scatter Plot of Purchases vs. Visits')\n",
    "plt.xlabel('Sum of Purchases')\n",
    "plt.ylabel('Number of Visits');"
   ],
   "metadata": {
    "colab": {
     "base_uri": "https://localhost:8080/",
     "height": 472
    },
    "id": "gaeoGA-5Prr1",
    "outputId": "3abf11ad-7e16-4d97-9448-06c7208c7c96",
    "ExecuteTime": {
     "end_time": "2025-05-26T19:49:11.248280Z",
     "start_time": "2025-05-26T19:48:52.772954Z"
    }
   },
   "outputs": [
    {
     "name": "stderr",
     "output_type": "stream",
     "text": [
      "Matplotlib is building the font cache; this may take a moment.\n"
     ]
    },
    {
     "data": {
      "text/plain": [
       "<Figure size 640x480 with 1 Axes>"
      ],
      "image/png": "[encoded data removed]"
     },
     "metadata": {},
     "output_type": "display_data"
    }
   ],
   "execution_count": 14
  },
  {
   "cell_type": "markdown",
   "source": [
    "**Завдання 7**. В попередньому завданні ми помітили, що викиди нам заважають отримати \"правдиве\" значення кореляції. Давайте вилучимо записи, які відповідають значенням з викидами в сумі покупок і обчисліть коеф. кореляції. Для цього поставте `threshold`, який дорінює середньому значенню + 2 стандартних вдіхилля суми покупок і всі значення, які більше за нього, будемо вважати викидами (є і інші правила для визначення викидів - з ним и познайомимось пізніше).\n",
    "\n",
    "Вилучіть значення з обох масивів і обчисліть коеф. кореляції Пірсона з допомогою `numpy` для кількості візитів і суми покупок без записів-викидів. Виведіть результат на екран, побудуйте діаграму розсіювання і проаналізуйте результат: що можемо сказати про залежність в даних?"
   ],
   "metadata": {
    "id": "4pEg0KzSQ6KA"
   }
  },
  {
   "cell_type": "code",
   "source": [
    "import numpy as np\n",
    "visits_Y = [ 6,  2, 10,  3,  9,  9,  2,  3,  6,  6, 10,  2,  5, 10,  3,  5,  4,\n",
    "        7,  4,  2]\n",
    "sum_purchases_X = [ 316,  493,  367,  153,  224,  121,  322,  450,  196,  397,  281,\n",
    "  239,  484,  124,  223,  448,  432,  255, 4310, 3524]\n",
    "\n",
    "threshold_X = 0;\n",
    "threshold_Y = 0;\n",
    "meanX = np.mean(sum_purchases_X);\n",
    "meanY = np.mean(visits_Y);\n",
    "\n",
    "std_deviation_X = np.std(sum_purchases_X);\n",
    "std_deviation_Y = np.std(visits_Y);\n",
    "\n",
    "threshold_X = meanX + 2 * std_deviation_X;\n",
    "threshold_Y = meanY + 2 * std_deviation_Y;\n",
    "\n",
    "new_sum_purchases = [];\n",
    "new_visits = [];\n",
    "\n",
    "for i in range(len(sum_purchases_X)):\n",
    "    if sum_purchases_X[i] < threshold_X and visits_Y[i] < threshold_Y:\n",
    "        new_sum_purchases.append(sum_purchases_X[i])\n",
    "        new_visits.append(visits_Y[i])\n",
    "\n",
    "\n",
    "# Виводимо результати\n",
    "print(\"Поріг X:\", threshold_X)\n",
    "\n",
    "print(\"Поріг Y:\", threshold_Y)\n",
    "\n",
    "print(np.corrcoef(new_sum_purchases, new_visits))\n",
    "\n",
    "import matplotlib.pyplot as plt\n",
    "\n",
    "plt.scatter(new_sum_purchases, new_visits)\n",
    "plt.title('Scatter Plot of Purchases vs. Visits')\n",
    "plt.xlabel('Sum of Purchases')\n",
    "plt.ylabel('Number of Visits');\n"
   ],
   "metadata": {
    "id": "Yj3Yfaf7UBbc",
    "colab": {
     "base_uri": "https://localhost:8080/",
     "height": 543
    },
    "outputId": "1f483b5e-665e-401e-c1d4-9259c6540f7e",
    "ExecuteTime": {
     "end_time": "2025-05-26T19:49:11.417101Z",
     "start_time": "2025-05-26T19:49:11.269191Z"
    }
   },
   "outputs": [
    {
     "name": "stdout",
     "output_type": "stream",
     "text": [
      "Поріг X: 2860.0885426108453\n",
      "Поріг Y: 11.07097875150313\n",
      "[[ 1.         -0.36852121]\n",
      " [-0.36852121  1.        ]]\n"
     ]
    },
    {
     "data": {
      "text/plain": [
       "<Figure size 640x480 with 1 Axes>"
      ],
      "image/png": "[encoded data removed]"
     },
     "metadata": {},
     "output_type": "display_data"
    }
   ],
   "execution_count": 15
  },
  {
   "cell_type": "markdown",
   "source": [
    "Діаграма розсіювання показує нам, що немає чіткої залежності від кількості відвідувань та суми зроблених покупок. Тобто не важливо скільки разів людина відвідала 'магазин', бо її сума від того не є більшою чи меншою. Можливо лише трішки проглядається те, що чим менше відвідувань тим більша покупка. Чим більше відвідувань тим менша покупка. Потрібно більше даних щоб дати більш чітку відповідь."
   ],
   "metadata": {
    "id": "go7oGuExGQqA"
   }
  },
  {
   "cell_type": "code",
   "source": [],
   "metadata": {
    "id": "FXEFyzaSHEKQ",
    "ExecuteTime": {
     "end_time": "2025-05-26T19:49:11.448587Z",
     "start_time": "2025-05-26T19:49:11.444697Z"
    }
   },
   "outputs": [],
   "execution_count": null
  }
 ]
}
